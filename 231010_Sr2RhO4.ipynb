{
 "cells": [
  {
   "cell_type": "code",
   "execution_count": 1,
   "metadata": {},
   "outputs": [
    {
     "name": "stdout",
     "output_type": "stream",
     "text": [
      "check!! in /Users/parkjinhong/Dropbox/github/jhp_thon/etc/Rh 2309.15299.pdf\n"
     ]
    }
   ],
   "source": [
    "import os\n",
    "path_this = os.getcwd()\n",
    "print(\"check!! in \" +path_this +\"/etc/Rh 2309.15299.pdf\")"
   ]
  },
  {
   "cell_type": "markdown",
   "metadata": {},
   "source": [
    "### Spin-orbit excitons in a correlated metal : Raman scattering study of Sr2RhO4\n",
    "\n",
    "\n",
    "Using Raman spectroscopy to study the correlated 4d-electron metal Sr2RhO4, we observe pro- nounced excitations at 220 meV and 240 meV with A1g and B1g symmetries, respectively. We identify them as transitions between the spin-orbit multiplets of the Rh ions, in close analogy to the spin-orbit excitons in Mott insulators Sr2IrO4 and α-RuCl3. This observation provides direct evidence for the unquenched spin-orbit coupling in Sr2RhO4. A quantitative analysis of the data reveals that the tetragonal crystal field ∆ in Sr2RhO4 has a sign opposite to that in insulating Sr2IrO4, which enhances the planar xy orbital character of the effective J = 1/2 wavefunction. This supports a metallic ground state, and suggests that the c-axis compression of Sr2RhO4 may transform it into a quasi-two dimensional antiferromagnetic insulator."
   ]
  },
  {
   "cell_type": "markdown",
   "metadata": {},
   "source": []
  },
  {
   "cell_type": "markdown",
   "metadata": {},
   "source": [
    "여기서 A1g와 B1g 가 뭘까?"
   ]
  },
  {
   "cell_type": "markdown",
   "metadata": {},
   "source": []
  }
 ],
 "metadata": {
  "kernelspec": {
   "display_name": "Python 3",
   "language": "python",
   "name": "python3"
  },
  "language_info": {
   "codemirror_mode": {
    "name": "ipython",
    "version": 3
   },
   "file_extension": ".py",
   "mimetype": "text/x-python",
   "name": "python",
   "nbconvert_exporter": "python",
   "pygments_lexer": "ipython3",
   "version": "3.10.3"
  },
  "orig_nbformat": 4
 },
 "nbformat": 4,
 "nbformat_minor": 2
}
