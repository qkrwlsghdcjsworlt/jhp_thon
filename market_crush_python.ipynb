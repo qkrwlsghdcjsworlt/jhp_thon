{
 "cells": [
  {
   "cell_type": "code",
   "execution_count": null,
   "metadata": {},
   "outputs": [],
   "source": []
  },
  {
   "cell_type": "markdown",
   "metadata": {},
   "source": [
    "### Predicting Market crashes with topology in python\n",
    "#### Beyond Traditional Indicators for Isights Into Market Behavior\n",
    "https://medium.com/@crisvelasquez/predicting-stock-market-crashes-with-topological-data-analysis-in-python-1dc4f18ca7ca"
   ]
  },
  {
   "cell_type": "markdown",
   "metadata": {},
   "source": [
    "[PH(D) = {[b,d]| b is birth time, d is death time of a feature in data D}]"
   ]
  },
  {
   "cell_type": "code",
   "execution_count": 9,
   "metadata": {},
   "outputs": [
    {
     "ename": "ImportError",
     "evalue": "cannot import name 'rips' from 'ripser' (/Users/parkjinhong/.pyenv/versions/3.10.3/lib/python3.10/site-packages/ripser/__init__.py)",
     "output_type": "error",
     "traceback": [
      "\u001b[0;31m---------------------------------------------------------------------------\u001b[0m",
      "\u001b[0;31mImportError\u001b[0m                               Traceback (most recent call last)",
      "\u001b[1;32m/Users/parkjinhong/Library/CloudStorage/Dropbox/github/jhp_thon/market_crush_python.ipynb Cell 4\u001b[0m in \u001b[0;36m1\n\u001b[1;32m     <a href='vscode-notebook-cell:/Users/parkjinhong/Library/CloudStorage/Dropbox/github/jhp_thon/market_crush_python.ipynb#W5sZmlsZQ%3D%3D?line=10'>11</a>\u001b[0m \u001b[39mfrom\u001b[39;00m \u001b[39mscipy\u001b[39;00m\u001b[39m.\u001b[39;00m\u001b[39moptimize\u001b[39;00m \u001b[39mimport\u001b[39;00m curve_fit\n\u001b[1;32m     <a href='vscode-notebook-cell:/Users/parkjinhong/Library/CloudStorage/Dropbox/github/jhp_thon/market_crush_python.ipynb#W5sZmlsZQ%3D%3D?line=11'>12</a>\u001b[0m \u001b[39mfrom\u001b[39;00m \u001b[39mripser\u001b[39;00m \u001b[39mimport\u001b[39;00m ripser\n\u001b[0;32m---> <a href='vscode-notebook-cell:/Users/parkjinhong/Library/CloudStorage/Dropbox/github/jhp_thon/market_crush_python.ipynb#W5sZmlsZQ%3D%3D?line=12'>13</a>\u001b[0m \u001b[39mfrom\u001b[39;00m \u001b[39mripser\u001b[39;00m \u001b[39mimport\u001b[39;00m rips\n\u001b[1;32m     <a href='vscode-notebook-cell:/Users/parkjinhong/Library/CloudStorage/Dropbox/github/jhp_thon/market_crush_python.ipynb#W5sZmlsZQ%3D%3D?line=14'>15</a>\u001b[0m \u001b[39m# binance api \u001b[39;00m\n\u001b[1;32m     <a href='vscode-notebook-cell:/Users/parkjinhong/Library/CloudStorage/Dropbox/github/jhp_thon/market_crush_python.ipynb#W5sZmlsZQ%3D%3D?line=15'>16</a>\u001b[0m \u001b[39mimport\u001b[39;00m \u001b[39mnasdaqdatalink\u001b[39;00m\n",
      "\u001b[0;31mImportError\u001b[0m: cannot import name 'rips' from 'ripser' (/Users/parkjinhong/.pyenv/versions/3.10.3/lib/python3.10/site-packages/ripser/__init__.py)"
     ]
    }
   ],
   "source": [
    "%matplotlib inline\n",
    "\n",
    "import numpy as np \n",
    "import pandas as pd\n",
    "import pandas_datareader as pdr\n",
    "import matplotlib.pyplot as plt\n",
    "import FinanceDataReader as fdr\n",
    "from matplotlib import style\n",
    "import matplotlib.colors as mcolors\n",
    "import yfinance as yf\n",
    "from scipy.optimize import curve_fit\n",
    "from ripser import ripser\n",
    "from ripser import rips\n",
    "\n",
    "# binance api \n",
    "import nasdaqdatalink\n",
    "import quandl\n",
    "\n",
    "quandl.ApiConfig.api_key = \"AAHgDbrpouZ8KXGz3ihH\"\n",
    "\n",
    "#quandl.get(\"USTREASURY/REALYIELD\")\n",
    "\n",
    "start_date_INPUT = \"2022-11-01\"\n",
    "\n",
    "BTC_recent = quandl.get(\"BCHAIN/MKPRU\", start_date=start_date_INPUT)\n",
    "\n",
    "plt.plot(BTC_recent.index, BTC_recent[\"Value\"], color='k')"
   ]
  },
  {
   "cell_type": "code",
   "execution_count": 2,
   "metadata": {},
   "outputs": [],
   "source": [
    "log_returns = np.log(BTC_recent[\"Value\"][1:]/BTC_recent[\"Value\"][:-1])\n"
   ]
  },
  {
   "cell_type": "code",
   "execution_count": 8,
   "metadata": {},
   "outputs": [
    {
     "ename": "AttributeError",
     "evalue": "'Series' object has no attribute 'reshape'",
     "output_type": "error",
     "traceback": [
      "\u001b[0;31m---------------------------------------------------------------------------\u001b[0m",
      "\u001b[0;31mAttributeError\u001b[0m                            Traceback (most recent call last)",
      "\u001b[1;32m/Users/parkjinhong/Library/CloudStorage/Dropbox/github/jhp_thon/market_crush_python.ipynb Cell 6\u001b[0m in \u001b[0;36m6\n\u001b[1;32m      <a href='vscode-notebook-cell:/Users/parkjinhong/Library/CloudStorage/Dropbox/github/jhp_thon/market_crush_python.ipynb#X10sZmlsZQ%3D%3D?line=2'>3</a>\u001b[0m distances \u001b[39m=\u001b[39m np\u001b[39m.\u001b[39mfull((n, \u001b[39m1\u001b[39m), np\u001b[39m.\u001b[39mnan)  \u001b[39m# Using np.full with NaN values\u001b[39;00m\n\u001b[1;32m      <a href='vscode-notebook-cell:/Users/parkjinhong/Library/CloudStorage/Dropbox/github/jhp_thon/market_crush_python.ipynb#X10sZmlsZQ%3D%3D?line=4'>5</a>\u001b[0m \u001b[39mfor\u001b[39;00m i \u001b[39min\u001b[39;00m \u001b[39mrange\u001b[39m(n):\n\u001b[0;32m----> <a href='vscode-notebook-cell:/Users/parkjinhong/Library/CloudStorage/Dropbox/github/jhp_thon/market_crush_python.ipynb#X10sZmlsZQ%3D%3D?line=5'>6</a>\u001b[0m     segment1 \u001b[39m=\u001b[39m log_returns[i:i\u001b[39m+\u001b[39;49mwindow_size]\u001b[39m.\u001b[39;49mreshape(\u001b[39m-\u001b[39m\u001b[39m1\u001b[39m, \u001b[39m1\u001b[39m)\n\u001b[1;32m      <a href='vscode-notebook-cell:/Users/parkjinhong/Library/CloudStorage/Dropbox/github/jhp_thon/market_crush_python.ipynb#X10sZmlsZQ%3D%3D?line=6'>7</a>\u001b[0m     segment2 \u001b[39m=\u001b[39m log_returns[i\u001b[39m+\u001b[39mwindow_size:i\u001b[39m+\u001b[39m(\u001b[39m2\u001b[39m\u001b[39m*\u001b[39mwindow_size)]\u001b[39m.\u001b[39mreshape(\u001b[39m-\u001b[39m\u001b[39m1\u001b[39m, \u001b[39m1\u001b[39m)\n\u001b[1;32m      <a href='vscode-notebook-cell:/Users/parkjinhong/Library/CloudStorage/Dropbox/github/jhp_thon/market_crush_python.ipynb#X10sZmlsZQ%3D%3D?line=8'>9</a>\u001b[0m     \u001b[39mif\u001b[39;00m segment1\u001b[39m.\u001b[39mshape[\u001b[39m0\u001b[39m] \u001b[39m!=\u001b[39m window_size \u001b[39mor\u001b[39;00m segment2\u001b[39m.\u001b[39mshape[\u001b[39m0\u001b[39m] \u001b[39m!=\u001b[39m window_size:\n",
      "File \u001b[0;32m~/.pyenv/versions/3.10.3/lib/python3.10/site-packages/pandas/core/generic.py:6202\u001b[0m, in \u001b[0;36mNDFrame.__getattr__\u001b[0;34m(self, name)\u001b[0m\n\u001b[1;32m   6195\u001b[0m \u001b[39mif\u001b[39;00m (\n\u001b[1;32m   6196\u001b[0m     name \u001b[39mnot\u001b[39;00m \u001b[39min\u001b[39;00m \u001b[39mself\u001b[39m\u001b[39m.\u001b[39m_internal_names_set\n\u001b[1;32m   6197\u001b[0m     \u001b[39mand\u001b[39;00m name \u001b[39mnot\u001b[39;00m \u001b[39min\u001b[39;00m \u001b[39mself\u001b[39m\u001b[39m.\u001b[39m_metadata\n\u001b[1;32m   6198\u001b[0m     \u001b[39mand\u001b[39;00m name \u001b[39mnot\u001b[39;00m \u001b[39min\u001b[39;00m \u001b[39mself\u001b[39m\u001b[39m.\u001b[39m_accessors\n\u001b[1;32m   6199\u001b[0m     \u001b[39mand\u001b[39;00m \u001b[39mself\u001b[39m\u001b[39m.\u001b[39m_info_axis\u001b[39m.\u001b[39m_can_hold_identifiers_and_holds_name(name)\n\u001b[1;32m   6200\u001b[0m ):\n\u001b[1;32m   6201\u001b[0m     \u001b[39mreturn\u001b[39;00m \u001b[39mself\u001b[39m[name]\n\u001b[0;32m-> 6202\u001b[0m \u001b[39mreturn\u001b[39;00m \u001b[39mobject\u001b[39;49m\u001b[39m.\u001b[39;49m\u001b[39m__getattribute__\u001b[39;49m(\u001b[39mself\u001b[39;49m, name)\n",
      "\u001b[0;31mAttributeError\u001b[0m: 'Series' object has no attribute 'reshape'"
     ]
    }
   ],
   "source": [
    "window_size = 20\n",
    "n = len(log_returns) - (2 * window_size) + 1\n",
    "distances = np.full((n, 1), np.nan)  # Using np.full with NaN values\n",
    "\n",
    "for i in range(n):\n",
    "    segment1 = log_returns[i:i+window_size].reshape(-1, 1)\n",
    "    segment2 = log_returns[i+window_size:i+(2*window_size)].reshape(-1, 1)\n",
    "\n",
    "    if segment1.shape[0] != window_size or segment2.shape[0] != window_size:\n",
    "        continue\n",
    "\n",
    "    dgm1 = rips.fit_transform(segment1)\n",
    "    dgm2 = rips.fit_transform(segment2)\n",
    "    distance = persim.wasserstein(dgm1[0], dgm2[0], matching=False)\n",
    "    distances[i] = distance\n",
    "\n",
    "\n",
    "\n",
    "segment1 = log_returns[i:i + window_size].reshape(-1,1)"
   ]
  },
  {
   "cell_type": "code",
   "execution_count": null,
   "metadata": {},
   "outputs": [],
   "source": []
  }
 ],
 "metadata": {
  "kernelspec": {
   "display_name": "Python 3",
   "language": "python",
   "name": "python3"
  },
  "language_info": {
   "codemirror_mode": {
    "name": "ipython",
    "version": 3
   },
   "file_extension": ".py",
   "mimetype": "text/x-python",
   "name": "python",
   "nbconvert_exporter": "python",
   "pygments_lexer": "ipython3",
   "version": "3.10.3"
  },
  "orig_nbformat": 4
 },
 "nbformat": 4,
 "nbformat_minor": 2
}
