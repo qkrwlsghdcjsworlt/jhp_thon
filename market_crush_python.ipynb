{
 "cells": [
  {
   "cell_type": "code",
   "execution_count": null,
   "metadata": {},
   "outputs": [],
   "source": []
  },
  {
   "cell_type": "markdown",
   "metadata": {},
   "source": [
    "### Predicting Market crashes with topology in python\n",
    "#### Beyond Traditional Indicators for Isights Into Market Behavior\n",
    "https://medium.com/@crisvelasquez/predicting-stock-market-crashes-with-topological-data-analysis-in-python-1dc4f18ca7ca"
   ]
  },
  {
   "cell_type": "markdown",
   "metadata": {},
   "source": [
    "[PH(D) = {[b,d]| b is birth time, d is death time of a feature in data D}]"
   ]
  },
  {
   "cell_type": "markdown",
   "metadata": {},
   "source": []
  }
 ],
 "metadata": {
  "language_info": {
   "name": "python"
  },
  "orig_nbformat": 4
 },
 "nbformat": 4,
 "nbformat_minor": 2
}
