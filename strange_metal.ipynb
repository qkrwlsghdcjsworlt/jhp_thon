{
 "cells": [
  {
   "cell_type": "code",
   "execution_count": null,
   "metadata": {},
   "outputs": [],
   "source": []
  },
  {
   "cell_type": "markdown",
   "metadata": {},
   "source": [
    "### strange metal\n",
    "\n",
    "\n",
    "https://www.brown.edu/news/2022-01-12/strangemetal\n",
    "\n",
    "\n",
    "\n",
    "https://www.nature.com/articles/s41586-021-04239-y\n",
    "\n",
    "\n",
    "\n"
   ]
  },
  {
   "cell_type": "markdown",
   "metadata": {},
   "source": []
  },
  {
   "cell_type": "markdown",
   "metadata": {},
   "source": [
    "Newly discovered type of ‘strange metal’ could lead to deep insights\n",
    "A new discovery could help scientists to understand “strange metals,” a class of materials that are related to high-temperature superconductors and share fundamental quantum attributes with black holes.\n",
    "Using a material called yttrium barium copper oxide arrayed with tiny holes, researchers have discovered \"strange metal\" behavior in a type of system where charge carriers are bosons, something that's never been seen before.\n",
    "PROVIDENCE, R.I. [Brown University] — Scientists understand quite well how temperature affects electrical conductance in most everyday metals like copper or silver. But in recent years, researchers have turned their attention to a class of materials that do not seem to follow the traditional electrical rules. Understanding these so-called “strange metals” could provide fundamental insights into the quantum world, and potentially help scientists understand strange phenomena like high-temperature superconductivity.\n",
    "\n",
    "Now, a research team co-led by a Brown University physicist has added a new discovery to the strange metal mix. In research published in the journal Nature, the team found strange metal behavior in a material in which electrical charge is carried not by electrons, but by more “wave-like” entities called Cooper pairs.\n",
    "\n",
    "While electrons belong to a class of particles called fermions, Cooper pairs act as bosons, which follow very different rules from fermions. This is the first time strange metal behavior has been seen in a bosonic system, and researchers are hopeful that the discovery might be helpful in finding an explanation for how strange metals work — something that has eluded scientists for decades.\n",
    "\n",
    "“We have these two fundamentally different types of particles whose behaviors converge around a mystery,” said Jim Valles, a professor of physics at Brown and the study’s corresponding author. “What this says is that any theory to explain strange metal behavior can’t be specific to either type of particle. It needs to be more fundamental than that.”\n",
    "\n",
    "Strange metals\n",
    "Strange metal behavior was first discovered around 30 years ago in a class of materials called cuprates. These copper-oxide materials are most famous for being high-temperature superconductors, meaning they conduct electricity with zero resistance at temperatures far above that of normal superconductors. But even at temperatures above the critical temperature for superconductivity, cuprates act strangely compared to other metals.\n",
    "\n",
    "As their temperature increases, cuprates’ resistance increases in a strictly linear fashion. In normal metals, the resistance increases only so far, becoming constant at high temperatures in accord with what's known as Fermi liquid theory. Resistance arises when electrons flowing in a metal bang into the metal’s vibrating atomic structure, causing them to scatter. Fermi-liquid theory sets a maximum rate at which electron scattering can occur. But strange metals don’t follow the Fermi-liquid rules, and no one is sure how they work. What scientists do know is that the temperature-resistance relationship in strange metals appears to be related to two fundamental constants of nature: Boltzmann’s constant, which represents the energy produced by random thermal motion, and Planck’s constant, which relates to the energy of a photon (a particle of light).\n",
    "\n",
    "“To try to understand what’s happening in these strange metals, people have applied mathematical approaches similar to those used to understand black holes,” Valles said. “So there’s some very fundamental physics happening in these materials.”\n",
    "\n",
    "Of bosons and fermions\n",
    "In recent years, Valles and his colleagues have been studying electrical activity in which the charge carriers are not electrons. In 1952, Nobel Laureate Leon Cooper, now a Brown professor emeritus of physics, discovered that in normal superconductors (not the high-temperature kind discovered later), electrons team up to form Cooper pairs, which can glide through an atomic lattice with no resistance. Despite being formed by two electrons, which are fermions, Cooper pairs can act as bosons.\n",
    "\n",
    "“Fermion and boson systems usually behave very differently,” Valles said. “Unlike individual fermions, bosons are allowed to share the same quantum state, which means they can move collectively like water molecules in the ripples of a wave.”\n",
    "\n",
    "In 2019, Valles and his colleagues showed that Cooper pair bosons can produce metallic behavior, meaning they can conduct electricity with some amount of resistance. That in itself was a surprising finding, the researchers say, because elements of quantum theory suggested that the phenomenon shouldn’t be possible. For this latest research, the team wanted to see if bosonic Cooper-pair metals were also strange metals.\n",
    "\n",
    "The team used a cuprate material called yttrium barium copper oxide patterned with tiny holes that induce the Cooper-pair metallic state. The team cooled the material down to just above its superconducting temperature to observe changes in its conductance. They found, like fermionic strange metals, a Cooper-pair metal conductance that is linear with temperature.\n",
    "\n",
    "The researchers say this new discovery will give theorists something new to chew on as they try to understand strange metal behavior.\n",
    "\n",
    "“It’s been a challenge for theoreticians to come up with an explanation for what we see in strange metals,” Valles said. “Our work shows that if you’re going to model charge transport in strange metals, that model must apply to both fermions and bosons — even though these types of particles follow fundamentally different rules.”\n",
    "\n",
    "Ultimately, a theory of strange metals could have massive implications. Strange metal behavior could hold the key to understanding high-temperature superconductivity, which has vast potential for things like lossless power grids and quantum computers. And because strange metal behavior seems to be related to fundamental constants of the universe, understanding their behavior could shed light on basic truths of how the physical world works."
   ]
  }
 ],
 "metadata": {
  "kernelspec": {
   "display_name": "Python 3",
   "language": "python",
   "name": "python3"
  },
  "language_info": {
   "codemirror_mode": {
    "name": "ipython",
    "version": 3
   },
   "file_extension": ".py",
   "mimetype": "text/x-python",
   "name": "python",
   "nbconvert_exporter": "python",
   "pygments_lexer": "ipython3",
   "version": "3.10.3"
  },
  "orig_nbformat": 4
 },
 "nbformat": 4,
 "nbformat_minor": 2
}
