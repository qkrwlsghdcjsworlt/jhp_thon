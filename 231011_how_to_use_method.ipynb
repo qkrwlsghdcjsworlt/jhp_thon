{
 "cells": [
  {
   "cell_type": "markdown",
   "metadata": {},
   "source": [
    "https://medium.com/@cautaerts/you-are-abusing-the-init-method-db5ec7fb3df"
   ]
  },
  {
   "cell_type": "markdown",
   "metadata": {},
   "source": [
    "python is an object oriented language. How a new object should be created is usually defined in the special __init__ method implemented on a class. A simple class that stores two instance variables could be implemented as follows:"
   ]
  },
  {
   "cell_type": "code",
   "execution_count": 3,
   "metadata": {},
   "outputs": [
    {
     "data": {
      "text/plain": [
       "('value1', 'value2')"
      ]
     },
     "execution_count": 3,
     "metadata": {},
     "output_type": "execute_result"
    }
   ],
   "source": [
    "class MyClass :\n",
    "    def __init__(self, attr1, attr2):\n",
    "        self.attr1 = attr1\n",
    "        self.attr2 = attr2\n",
    "    def get_variables(self):\n",
    "        return self.attr1, self.attr2\n",
    "    \n",
    "my_object = MyClass(\"value1\", \"value2\")\n",
    "\n",
    "my_object.get_variables()"
   ]
  },
  {
   "cell_type": "code",
   "execution_count": 4,
   "metadata": {},
   "outputs": [],
   "source": [
    "def Configuration():\n",
    "    def __init__ (self, filepath):\n",
    "        self.filepath = filepath\n",
    "        self._initialize()\n",
    "    \n",
    "    def _initialize(self):\n",
    "        self._parse_config_file()\n",
    "        self._precompute_stuff()\n",
    "\n",
    "    def _parse_config_file(self):\n",
    "        # parse the file in self.filepath, and store\n",
    "        # data in a number of variables self.<attr>\n",
    "        return\n",
    "    \n",
    "    def _precompute_stuff(self):\n",
    "        # use the variables defined in \n",
    "        # self._parse_config_file to compute and set\n",
    "        # new instance variables\n",
    "        return\n",
    "    \n",
    "    "
   ]
  },
  {
   "cell_type": "markdown",
   "metadata": {},
   "source": []
  },
  {
   "cell_type": "code",
   "execution_count": 16,
   "metadata": {},
   "outputs": [
    {
     "data": {
      "text/plain": [
       "2"
      ]
     },
     "execution_count": 16,
     "metadata": {},
     "output_type": "execute_result"
    }
   ],
   "source": [
    "\n",
    "from __future__ import annotations\n",
    "\n",
    "\n",
    "class Configuration:\n",
    "    def __init__(self, attr1: int, attr2: int) -> None:\n",
    "        self._attr1 = attr1\n",
    "        self._attr2 = attr2\n",
    "\n",
    "    @property\n",
    "    def attr1(self) -> int:\n",
    "        return self._attr1\n",
    "\n",
    "    @property\n",
    "    def attr2(self) -> int:\n",
    "        return self._attr2\n",
    "        \n",
    "    @classmethod\n",
    "    def from_file(cls, filepath: str) -> Configuration:\n",
    "        parsed_data = cls._parse_config_file(filepath)\n",
    "        computed_data = cls._precompute_stuff(parsed_data)\n",
    "        return cls(\n",
    "            attr1=parsed_data,\n",
    "            attr2=computed_data,\n",
    "        )\n",
    "\n",
    "    @classmethod\n",
    "    def _parse_config_file(cls, filepath: str) -> int:\n",
    "        # parse the file in filepath and return the data    \n",
    "        ...\n",
    "\n",
    "    @classmethod\n",
    "    def _precompute_stuff(cls, data: int) -> int:\n",
    "        # use data parsed from a config file to calculate new data\n",
    "        ...\n",
    "\n",
    "my_object = Configuration(1,2)\n",
    "\n",
    "my_object.attr2"
   ]
  }
 ],
 "metadata": {
  "kernelspec": {
   "display_name": "Python 3",
   "language": "python",
   "name": "python3"
  },
  "language_info": {
   "codemirror_mode": {
    "name": "ipython",
    "version": 3
   },
   "file_extension": ".py",
   "mimetype": "text/x-python",
   "name": "python",
   "nbconvert_exporter": "python",
   "pygments_lexer": "ipython3",
   "version": "3.10.3"
  },
  "orig_nbformat": 4
 },
 "nbformat": 4,
 "nbformat_minor": 2
}
