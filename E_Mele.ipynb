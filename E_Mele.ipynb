{
 "cells": [
  {
   "cell_type": "code",
   "execution_count": null,
   "metadata": {},
   "outputs": [],
   "source": []
  },
  {
   "cell_type": "markdown",
   "metadata": {},
   "source": [
    "### Protected Fermionic Zero Modes in Periodic Gauge Fields\n",
    "\n",
    "\n",
    "It is well-known that macroscopically-normalizable zero-energy wavefunctions of spin-$\\frac{1}{2}$ particles in a two-dimensional inhomogeneous magnetic field are spin-polarized and exactly calculable with degeneracy equaling the number of flux quanta linking the whole system. Extending this argument to massless Dirac fermions subjected to magnetic fields that have zero net flux but are doubly peiodic in real space, we show that there exist only two Bloch-nomalizable zero-energy eigenstates, one for each spin flavor. This result is immediately relevant to graphene multilayer systems subjected to doubley-periodic strain fields, which at low energies, enter the Hamiltonian as periodic pseudo-gauge vector potentials. Furthermore, we explore various related settings including nonlinearly-dispersing band structure models and systems with singly-periodic magnetic fields.\n"
   ]
  },
  {
   "cell_type": "markdown",
   "metadata": {},
   "source": []
  },
  {
   "cell_type": "markdown",
   "metadata": {},
   "source": [
    "1. 그러니까 Aharonov Casher 가 말한 2D system 을 잘 이해하고\n",
    "\n",
    "2. graphene 과 같은 Dirac fermion 에 두개의 magnetic modulation 이 있을 때 어떻게 되는지 이해해야됨."
   ]
  }
 ],
 "metadata": {
  "kernelspec": {
   "display_name": "Python 3",
   "language": "python",
   "name": "python3"
  },
  "language_info": {
   "codemirror_mode": {
    "name": "ipython",
    "version": 3
   },
   "file_extension": ".py",
   "mimetype": "text/x-python",
   "name": "python",
   "nbconvert_exporter": "python",
   "pygments_lexer": "ipython3",
   "version": "3.10.3"
  },
  "orig_nbformat": 4
 },
 "nbformat": 4,
 "nbformat_minor": 2
}
